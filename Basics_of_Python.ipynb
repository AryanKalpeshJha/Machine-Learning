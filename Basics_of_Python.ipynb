{
  "nbformat": 4,
  "nbformat_minor": 0,
  "metadata": {
    "colab": {
      "provenance": []
    },
    "kernelspec": {
      "name": "python3",
      "display_name": "Python 3"
    }
  },
  "cells": [
    {
      "cell_type": "markdown",
      "metadata": {
        "id": "hA2GoWHnpbrU"
      },
      "source": [
        "## **Course: Machine Learning**\n",
        "##**Aim:Basic Functions of Python**\n",
        "##**Name:Aryan Kalpesh Jha**"
      ]
    },
    {
      "cell_type": "markdown",
      "metadata": {
        "id": "cAwKEjfvNZau"
      },
      "source": [
        "## Input /Output"
      ]
    },
    {
      "cell_type": "code",
      "source": [
        "# Find sum of two integers\n",
        "num1 = int(None ('enter first number'))\n",
        "num2 = None (input('enter second number'))\n",
        "sum = num1+num2\n",
        "print(\"sum =\", sum)"
      ],
      "metadata": {
        "id": "onoJYBFEBnWW"
      },
      "execution_count": null,
      "outputs": []
    },
    {
      "cell_type": "code",
      "source": [
        "list1 = [int(x) for x in input(\"enter n numbers\").None (',')]\n",
        "print(list1)"
      ],
      "metadata": {
        "id": "2k5ONXUiCtfZ"
      },
      "execution_count": null,
      "outputs": []
    },
    {
      "cell_type": "code",
      "metadata": {
        "id": "qVp-O5S8ZdW5"
      },
      "source": [
        "print(10 ** 4)\n",
        "print(5 % 4)\n",
        "print(10 / 4)\n",
        "print(10 None 4)"
      ],
      "execution_count": null,
      "outputs": []
    },
    {
      "cell_type": "markdown",
      "source": [
        "In python strings, lists, tuples and dictionaries are important sequence data types.Common operations: indexing and slicing"
      ],
      "metadata": {
        "id": "DR8HELWVHITI"
      }
    },
    {
      "cell_type": "markdown",
      "metadata": {
        "id": "akPU2xqYUF4S"
      },
      "source": [
        "# **Lists**\n",
        "\n",
        "**properties**: ordered, iterable, mutable, can contain multiple data types\n",
        "Major difference in array and list- Array stores only one type of element"
      ]
    },
    {
      "cell_type": "code",
      "metadata": {
        "id": "IdRebTrc7GNA"
      },
      "source": [
        "# List\n",
        "myList = [1, 1.1, \"This is a sentence\", None]\n",
        "for element in myList:\n",
        "    print(type(None))"
      ],
      "execution_count": null,
      "outputs": []
    },
    {
      "cell_type": "code",
      "metadata": {
        "id": "vPrkNgxR6u0w"
      },
      "source": [
        "x = list(range(10))\n",
        "print(x)\n",
        "x.None ()\n",
        "print(x)\n",
        "x.None (5)\n",
        "print(x)\n",
        "x.None ()\n",
        "print(x)\n",
        "x.None (reverse = True)\n",
        "print(x)"
      ],
      "execution_count": null,
      "outputs": []
    },
    {
      "cell_type": "code",
      "metadata": {
        "id": "ETwJqhxHK60X"
      },
      "source": [
        "x = list(None (0, 10, 2))\n",
        "x"
      ],
      "execution_count": null,
      "outputs": []
    },
    {
      "cell_type": "code",
      "metadata": {
        "id": "af3Aj6PALJwc"
      },
      "source": [
        "x = list(range(10, 0, -1))\n",
        "x"
      ],
      "execution_count": null,
      "outputs": []
    },
    {
      "cell_type": "markdown",
      "metadata": {
        "id": "ZLgymi537Pz5"
      },
      "source": [
        "## **Slicing Lists**\n",
        "\n",
        "[**start** : **stop** : **steps**]\n",
        "\n",
        "[: stop] => slice from start till (excluding) stop index\n",
        "\n",
        "\n",
        "[start :] => slice from start till end\n",
        "\n",
        "\n",
        "-1 => means go backwards\n"
      ]
    },
    {
      "cell_type": "markdown",
      "metadata": {
        "id": "-T7OWsPadMyl"
      },
      "source": [
        "<figure>\n",
        "<center>\n",
        "<img src='https://drive.google.com/uc?id=1CNQ1aD-mNTGTS46T9027YNzoLaY3__bF' />\n",
        "<figcaption></figcaption></center>\n",
        "</figure>"
      ]
    },
    {
      "cell_type": "code",
      "metadata": {
        "id": "8xkPFkp77RM0"
      },
      "source": [
        "numbers = [4, 7, 24, 11, 2]\n",
        "print(numbers)\n",
        "print(numbers None )\n",
        "print(numbers None )\n",
        "print(numbers None )\n",
        "print(numbers None )\n",
        "print(numbers None )\n",
        "print(numbers [:4])\n",
        "print(numbers[::])\n"
      ],
      "execution_count": null,
      "outputs": []
    },
    {
      "cell_type": "code",
      "source": [
        "# Concatenation, Repeatation, and membership in lists\n",
        "x=[10,20,30,40,50]\n",
        "y=[100,110,120]\n",
        "print(x None y)\n",
        "print(x*2)\n",
        "a=20\n",
        "print(a None x)\n",
        "print(a None  x)"
      ],
      "metadata": {
        "id": "Y5GTSyBJsq8u"
      },
      "execution_count": null,
      "outputs": []
    },
    {
      "cell_type": "code",
      "source": [
        "# Aliasing and copying list\n",
        "list1 =[10,20,30,40,50]\n",
        "list2 = None\n",
        "print(list1, list2)\n",
        "list2[2]= 25\n",
        "print(list1, list2)\n",
        "list3 = list1.None\n",
        "list3[2] =60\n",
        "print(list1, None )"
      ],
      "metadata": {
        "id": "QoxMUikVuD5n"
      },
      "execution_count": null,
      "outputs": []
    },
    {
      "cell_type": "markdown",
      "metadata": {
        "id": "zH04axcVVbFL"
      },
      "source": [
        "**Nested Lists**"
      ]
    },
    {
      "cell_type": "code",
      "metadata": {
        "id": "8XHCLONxVcKb"
      },
      "source": [
        "# Let's make three lists\n",
        "lst_1 = [10, 20, 30]\n",
        "lst_2 = [40, 50, 60]\n",
        "lst_3 = [70, 80, 90]\n",
        "\n",
        "# Make a list of lists\n",
        "matrix = [None]\n",
        "matrix"
      ],
      "execution_count": null,
      "outputs": []
    },
    {
      "cell_type": "code",
      "metadata": {
        "id": "sJ8jLxryVpru"
      },
      "source": [
        "# Grab first item in matrix object\n",
        "matrix[0]"
      ],
      "execution_count": null,
      "outputs": []
    },
    {
      "cell_type": "code",
      "metadata": {
        "id": "Owk24AxIVrxc"
      },
      "source": [
        "# Grab first item of the third item in the matrix object\n",
        "matrix[None][0]"
      ],
      "execution_count": null,
      "outputs": []
    },
    {
      "cell_type": "markdown",
      "source": [
        "List comprehension represents creation of new lists from an iterable object(like a list, set, tuple, dictionary) that satisfy a given condition."
      ],
      "metadata": {
        "id": "9xvhocbHxcLL"
      }
    },
    {
      "cell_type": "code",
      "source": [
        "#Create a list with sqaures of integers from 1 to 10\n",
        "# without list comprehension\n",
        "squares =[]\n",
        "for x in range(1,11):\n",
        "  squares.append(x**2)\n",
        "print(squares)\n",
        "# With list comprehension\n",
        "squares_list = [None]\n",
        "print(squares_list)\n",
        "# list compreshension consist of square braces consisting of expression for loop and then zero or more for loops can be written\n",
        "even_squares = [None]\n",
        "print(even_squares)\n"
      ],
      "metadata": {
        "id": "JMHT8Y9NxUT5"
      },
      "execution_count": null,
      "outputs": []
    },
    {
      "cell_type": "markdown",
      "metadata": {
        "id": "Hp-rmwd8WgMY"
      },
      "source": [
        "# **Tuples**\n",
        "Difference between tuples and list. Tuples are immutable"
      ]
    },
    {
      "cell_type": "code",
      "metadata": {
        "id": "nT2oK1fwWiLk"
      },
      "source": [
        "# Create a tuple\n",
        "t = (10, 20, 30)\n",
        "len(t)"
      ],
      "execution_count": null,
      "outputs": []
    },
    {
      "cell_type": "code",
      "source": [
        "t.None (25)"
      ],
      "metadata": {
        "id": "CdGrX9QnzVij"
      },
      "execution_count": null,
      "outputs": []
    },
    {
      "cell_type": "code",
      "metadata": {
        "id": "8goU4uimWl8k"
      },
      "source": [
        "print(t[-1])\n",
        "print(t.index(30))\n",
        "print(t.count(10))"
      ],
      "execution_count": null,
      "outputs": []
    },
    {
      "cell_type": "markdown",
      "source": [
        "# Strings"
      ],
      "metadata": {
        "id": "q8Sajy0d0eD8"
      }
    },
    {
      "cell_type": "code",
      "metadata": {
        "id": "Y9aE7x2y56rx"
      },
      "source": [
        "string = 'Python is fun!'\n",
        "print(string[0])\n",
        "print(len(string))\n",
        "print(string.None)"
      ],
      "execution_count": null,
      "outputs": []
    },
    {
      "cell_type": "code",
      "metadata": {
        "id": "mAkd-1MA4xXN"
      },
      "source": [
        "# Print \"end\", default end = '\\n'\n",
        "print(\"Python\" , end = None)\n",
        "print(\"Workshop\")"
      ],
      "execution_count": null,
      "outputs": []
    },
    {
      "cell_type": "code",
      "metadata": {
        "id": "THjoMnXy5d4U"
      },
      "source": [
        "# Add two strings\n",
        "s1 = 'Mumbai'\n",
        "s2 = 'Pune'\n",
        "None"
      ],
      "execution_count": null,
      "outputs": []
    },
    {
      "cell_type": "code",
      "metadata": {
        "id": "omdQT6Sz6QNa"
      },
      "source": [
        "# Reverse strings\n",
        "s = 'Mumbai to Pune'\n",
        "None"
      ],
      "execution_count": null,
      "outputs": []
    },
    {
      "cell_type": "markdown",
      "source": [],
      "metadata": {
        "id": "9ItMMJD4xgdk"
      }
    },
    {
      "cell_type": "code",
      "source": [],
      "metadata": {
        "id": "7GYjyTfF1cQ-"
      },
      "execution_count": null,
      "outputs": []
    },
    {
      "cell_type": "markdown",
      "metadata": {
        "id": "Mner6HTuV2AU"
      },
      "source": [
        "# **Dictionaries**\n",
        "\n",
        "**properties**: unordered, iterable, mutable, can contain multiple data types\n",
        "\n",
        "- made of key-value pairs\n",
        "\n",
        "- keys must be unique, and can be strings, numbers, or tuples\n",
        "\n",
        "- values can be any type"
      ]
    },
    {
      "cell_type": "code",
      "metadata": {
        "id": "fV_0BkkmV3ME"
      },
      "source": [
        "my_dict = {'key1':123, 'key2':[12, 23, 33], 'key3':['item0', 'item1', 'item2']}\n",
        "my_dict"
      ],
      "execution_count": null,
      "outputs": []
    },
    {
      "cell_type": "code",
      "source": [
        "my_dict[None]"
      ],
      "metadata": {
        "id": "0MnStKMugjh4"
      },
      "execution_count": null,
      "outputs": []
    },
    {
      "cell_type": "code",
      "metadata": {
        "id": "bpMEfUoEV8qA"
      },
      "source": [
        "my_dict['key3']"
      ],
      "execution_count": null,
      "outputs": []
    },
    {
      "cell_type": "code",
      "metadata": {
        "id": "jAMy8fReV-V5"
      },
      "source": [
        "my_dict[None][0]"
      ],
      "execution_count": null,
      "outputs": []
    },
    {
      "cell_type": "code",
      "metadata": {
        "id": "9d3dwxlXWADl"
      },
      "source": [
        "my_dict[None][0].upper()"
      ],
      "execution_count": null,
      "outputs": []
    },
    {
      "cell_type": "code",
      "metadata": {
        "id": "-RROCu_0WEeh"
      },
      "source": [
        "# Change the value\n",
        "my_dict['key1'] = None\n",
        "my_dict['key1']"
      ],
      "execution_count": null,
      "outputs": []
    },
    {
      "cell_type": "markdown",
      "metadata": {
        "id": "jVJSCB1qWUa0"
      },
      "source": [
        "**Dictionary methods**"
      ]
    },
    {
      "cell_type": "code",
      "metadata": {
        "id": "p1hA61e1WV-u"
      },
      "source": [
        "d = {'key1':1, 'key2':2, 'key3':3}\n",
        "d.None"
      ],
      "execution_count": null,
      "outputs": []
    },
    {
      "cell_type": "code",
      "metadata": {
        "id": "ZM4-KzKZWZbR"
      },
      "source": [
        "d.None"
      ],
      "execution_count": null,
      "outputs": []
    },
    {
      "cell_type": "code",
      "metadata": {
        "id": "58-XDNUBWbnE"
      },
      "source": [
        "# Method to return tuples of all items\n",
        "d.None"
      ],
      "execution_count": null,
      "outputs": []
    },
    {
      "cell_type": "markdown",
      "source": [
        "# Converting Lists into dictionary"
      ],
      "metadata": {
        "id": "kRd7-Hueh-tY"
      }
    },
    {
      "cell_type": "code",
      "source": [
        "countries = [\"USA\", \"India\", \"Germany\"]\n",
        "cities = ['Washington', 'NewDelhi', 'Berlin']"
      ],
      "metadata": {
        "id": "ic-S8k4-iFnQ"
      },
      "execution_count": null,
      "outputs": []
    },
    {
      "cell_type": "code",
      "source": [
        "z=None\n",
        "d=None\n",
        "print(d)"
      ],
      "metadata": {
        "id": "styfgEsTiizX"
      },
      "execution_count": null,
      "outputs": []
    },
    {
      "cell_type": "markdown",
      "metadata": {
        "id": "es0QSQAL7-ec"
      },
      "source": [
        "## **Dictionary Comprehension**"
      ]
    },
    {
      "cell_type": "code",
      "metadata": {
        "id": "Hv5jQilO8ACl"
      },
      "source": [
        "a = { n: None  for n in range(7) } # note curly brackets\n",
        "print(a)"
      ],
      "execution_count": null,
      "outputs": []
    },
    {
      "cell_type": "markdown",
      "metadata": {
        "id": "qQoxpOVHR2GF"
      },
      "source": [
        "# **Python Utilities**"
      ]
    },
    {
      "cell_type": "markdown",
      "metadata": {
        "id": "I7MrIDe87YmX"
      },
      "source": [
        "## **Exercise on Lists:**\n",
        "1. Create a list of the first names of your family members. (>= 4 names)\n",
        "2. Print the name of the last person in the list.\n",
        "3. Print the length of the name of the first person in the list.\n",
        "4. Change one of the names from their real name to their nickname.\n",
        "5. Append a new person to the list.\n",
        "6. Sort the list in reverse alphabetical order. (Use ```sorted```)\n",
        "7. Sort the list by the length of the names (shortest to longest). (Use ```sorted```)\n"
      ]
    },
    {
      "cell_type": "markdown",
      "metadata": {
        "id": "GQlG6XlRUL3S"
      },
      "source": [
        "## **String utilities**"
      ]
    },
    {
      "cell_type": "code",
      "metadata": {
        "id": "9Eam_XozUN7_"
      },
      "source": [
        "s = 'hello world'\n",
        "s.capitalize()"
      ],
      "execution_count": null,
      "outputs": []
    },
    {
      "cell_type": "code",
      "metadata": {
        "id": "OpgLfVyhURWG"
      },
      "source": [
        "s.upper()"
      ],
      "execution_count": null,
      "outputs": []
    },
    {
      "cell_type": "code",
      "metadata": {
        "id": "ZtB4J_9LUSey"
      },
      "source": [
        "s.lower()"
      ],
      "execution_count": null,
      "outputs": []
    },
    {
      "cell_type": "code",
      "metadata": {
        "id": "gXqsLmGZUWYI"
      },
      "source": [
        "s.count('o')"
      ],
      "execution_count": null,
      "outputs": []
    },
    {
      "cell_type": "code",
      "metadata": {
        "id": "YyydA6BMUZRC"
      },
      "source": [
        "s.find('o') # returns the starting index position of the first occurence"
      ],
      "execution_count": null,
      "outputs": []
    },
    {
      "cell_type": "code",
      "metadata": {
        "id": "7NaREDu0UgHb"
      },
      "source": [
        "s = '9feetdown'\n",
        "s.isalnum()"
      ],
      "execution_count": null,
      "outputs": []
    },
    {
      "cell_type": "markdown",
      "metadata": {
        "id": "62pZT89PUzxQ"
      },
      "source": [
        "* `isalpha()` will return True if all characters in s are alphabetic"
      ]
    },
    {
      "cell_type": "code",
      "metadata": {
        "id": "LX-kaZfhUiB_"
      },
      "source": [
        "s.isalpha()"
      ],
      "execution_count": null,
      "outputs": []
    },
    {
      "cell_type": "markdown",
      "metadata": {
        "id": "7mojlt8cUwpv"
      },
      "source": [
        "* `islower()` will return True if all cased characters in s are lowercase and there is at least one cased character in s, False otherwise."
      ]
    },
    {
      "cell_type": "code",
      "metadata": {
        "id": "jNLrIYNvUtUL"
      },
      "source": [
        "s.islower()"
      ],
      "execution_count": null,
      "outputs": []
    },
    {
      "cell_type": "markdown",
      "metadata": {
        "id": "9-ahGBIxU55B"
      },
      "source": [
        "* `isspace()` will return True if all characters in s are whitespace."
      ]
    },
    {
      "cell_type": "code",
      "metadata": {
        "id": "V9DACzE8U7_D"
      },
      "source": [
        "s.isspace()"
      ],
      "execution_count": null,
      "outputs": []
    },
    {
      "cell_type": "markdown",
      "metadata": {
        "id": "c9qaDb-uXoki"
      },
      "source": [
        "* We can use `split()` to split the string at a certain element and return a list of the results.\n",
        "\n",
        "* We can use `partition()` to return a tuple that includes the first occurrence of the separator sandwiched between the first half and the end half."
      ]
    },
    {
      "cell_type": "code",
      "metadata": {
        "id": "C-uZ8TvMXr2o"
      },
      "source": [
        "s = 'hello world'\n",
        "\n",
        "s.None ('e')"
      ],
      "execution_count": null,
      "outputs": []
    },
    {
      "cell_type": "code",
      "metadata": {
        "id": "K2uLanc_XwgU"
      },
      "source": [
        "s.None('l')"
      ],
      "execution_count": null,
      "outputs": []
    }
  ]
}